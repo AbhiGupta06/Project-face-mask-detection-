{
  "nbformat": 4,
  "nbformat_minor": 0,
  "metadata": {
    "colab": {
      "name": "face_mask.ipynb",
      "provenance": [],
      "collapsed_sections": []
    },
    "kernelspec": {
      "display_name": "Python 3",
      "name": "python3"
    }
  },
  "cells": [
    {
      "cell_type": "markdown",
      "metadata": {
        "id": "56EHrtUfhinV"
      },
      "source": [
        "**Let us first import all the necessary libraries we are going to need.**"
      ]
    },
    {
      "cell_type": "code",
      "metadata": {
        "id": "tajuT3C3aant"
      },
      "source": [
        ""
      ],
      "execution_count": null,
      "outputs": []
    },
    {
      "cell_type": "code",
      "metadata": {
        "id": "uZTGwqh0cC_O"
      },
      "source": [
        "from tensorflow.keras.preprocessing.image import ImageDataGenerator\r\n",
        "from tensorflow.keras.applications import MobileNetV2\r\n",
        "from tensorflow.keras.layers import AveragePooling2D\r\n",
        "from tensorflow.keras.layers import Dropout\r\n",
        "from tensorflow.keras.layers import Flatten\r\n",
        "from tensorflow.keras.layers import Dense\r\n",
        "from tensorflow.keras.layers import Input\r\n",
        "from tensorflow.keras.models import Model\r\n",
        "from tensorflow.keras.optimizers import Adam\r\n",
        "from tensorflow.keras.applications.mobilenet_v2 import preprocess_input\r\n",
        "from tensorflow.keras.preprocessing.image import img_to_array\r\n",
        "from tensorflow.keras.preprocessing.image import load_img\r\n",
        "from tensorflow.keras.utils import to_categorical\r\n",
        "from sklearn.preprocessing import LabelBinarizer\r\n",
        "from sklearn.model_selection import train_test_split\r\n",
        "from imutils import paths\r\n",
        "import matplotlib.pyplot as plt\r\n",
        "import numpy as np\r\n",
        "import os"
      ],
      "execution_count": null,
      "outputs": []
    },
    {
      "cell_type": "markdown",
      "metadata": {
        "id": "7_eVbcQicjG-"
      },
      "source": [
        "**The next step is to read all the images and assign them to some list. Here we get all the paths associated with these images and then label them accordingly. Remember our dataset is contained in two folders viz- with_masks and without_masks. So we can easily get the labels by extracting the folder name from the path. Also, we preprocess the image and resize it to 224x 224 dimensions.**"
      ]
    },
    {
      "cell_type": "code",
      "metadata": {
        "id": "pCXv009I-AOG"
      },
      "source": [
        ""
      ],
      "execution_count": null,
      "outputs": []
    },
    {
      "cell_type": "code",
      "metadata": {
        "colab": {
          "base_uri": "https://localhost:8080/"
        },
        "id": "iobLZpFHcaKW",
        "outputId": "a1780ac2-bda2-4ba2-d7ca-a79b3aea295d"
      },
      "source": [
        "imagePaths = list(paths.list_images('/content/drive/MyDrive/dataset'))\r\n",
        "data = []\r\n",
        "labels = []\r\n",
        "# loop over the image paths\r\n",
        "for imagePath in imagePaths:\r\n",
        "\t# extract the class label from the filename\r\n",
        "\tlabel = imagePath.split(os.path.sep)[-2]\r\n",
        "\t# load the input image (224x224) and preprocess it\r\n",
        "\timage = load_img(imagePath, target_size=(224, 224))\r\n",
        "\timage = img_to_array(image)\r\n",
        "\timage = preprocess_input(image)\r\n",
        "\t# update the data and labels lists, respectively\r\n",
        "\tdata.append(image)\r\n",
        "\tlabels.append(label)\r\n",
        "# convert the data and labels to NumPy arrays\r\n",
        "data = np.array(data, dtype=\"float32\")\r\n",
        "labels = np.array(labels)"
      ],
      "execution_count": null,
      "outputs": [
        {
          "output_type": "stream",
          "text": [
            "/usr/local/lib/python3.6/dist-packages/PIL/Image.py:932: UserWarning: Palette images with Transparency expressed in bytes should be converted to RGBA images\n",
            "  \"Palette images with Transparency expressed in bytes should be \"\n"
          ],
          "name": "stderr"
        }
      ]
    },
    {
      "cell_type": "markdown",
      "metadata": {
        "id": "zT0w93Bqh_7K"
      },
      "source": [
        ""
      ]
    },
    {
      "cell_type": "code",
      "metadata": {
        "id": "DIEqixAj1rIg",
        "colab": {
          "base_uri": "https://localhost:8080/"
        },
        "outputId": "2230c8ed-cdc1-4e75-b048-dbe3cd6d83ce"
      },
      "source": [
        "baseModel = MobileNetV2(weights=\"imagenet\", include_top=False,\r\n",
        "input_shape=(224, 224, 3))\r\n",
        "# construct the head of the model that will be placed on top of the\r\n",
        "# the base model\r\n",
        "headModel = baseModel.output\r\n",
        "headModel = AveragePooling2D(pool_size=(7, 7))(headModel)\r\n",
        "headModel = Flatten(name=\"flatten\")(headModel)\r\n",
        "headModel = Dense(128, activation=\"relu\")(headModel)\r\n",
        "headModel = Dropout(0.5)(headModel)\r\n",
        "headModel = Dense(2, activation=\"softmax\")(headModel)\r\n",
        "\r\n",
        "# place the head FC model on top of the base model (this will become\r\n",
        "# the actual model we will train)\r\n",
        "model = Model(inputs=baseModel.input, outputs=headModel)\r\n",
        "# loop over all layers in the base model and freeze them so they will\r\n",
        "# *not* be updated during the first training process\r\n",
        "for layer in baseModel.layers:\r\n",
        "\tlayer.trainable = False"
      ],
      "execution_count": null,
      "outputs": [
        {
          "output_type": "stream",
          "text": [
            "Downloading data from https://storage.googleapis.com/tensorflow/keras-applications/mobilenet_v2/mobilenet_v2_weights_tf_dim_ordering_tf_kernels_1.0_224_no_top.h5\n",
            "9412608/9406464 [==============================] - 0s 0us/step\n"
          ],
          "name": "stdout"
        }
      ]
    },
    {
      "cell_type": "code",
      "metadata": {
        "id": "hyPR0ZPy9xx8"
      },
      "source": [
        "lb = LabelBinarizer()\r\n",
        "labels = lb.fit_transform(labels)\r\n",
        "labels = to_categorical(labels)\r\n",
        "# partition the data into training and testing splits using 80% of\r\n",
        "# the data for training and the remaining 20% for testing\r\n",
        "(trainX, testX, trainY, testY) = train_test_split(data, labels,\r\n",
        "\ttest_size=0.20, stratify=labels, random_state=42)\r\n",
        "# construct the training image generator for data augmentation\r\n",
        "aug = ImageDataGenerator(\r\n",
        "\trotation_range=20,\r\n",
        "\tzoom_range=0.15,\r\n",
        "\twidth_shift_range=0.2,\r\n",
        "\theight_shift_range=0.2,\r\n",
        "\tshear_range=0.15,\r\n",
        "\thorizontal_flip=True,\r\n",
        "\tfill_mode=\"nearest\")"
      ],
      "execution_count": null,
      "outputs": []
    },
    {
      "cell_type": "code",
      "metadata": {
        "colab": {
          "base_uri": "https://localhost:8080/"
        },
        "id": "29GLlg2O97wD",
        "outputId": "9399d211-ee22-4cf8-cbb0-1b44c07967b7"
      },
      "source": [
        "INIT_LR = 1e-4\r\n",
        "EPOCHS = 20\r\n",
        "BS = 32\r\n",
        "print(\"[INFO] compiling model...\")\r\n",
        "opt = Adam(lr=INIT_LR, decay=INIT_LR / EPOCHS)\r\n",
        "model.compile(loss=\"binary_crossentropy\", optimizer=opt,\r\n",
        "\tmetrics=[\"accuracy\"])\r\n",
        "# train the head of the network\r\n",
        "print(\"[INFO] training head...\")\r\n",
        "H = model.fit(\r\n",
        "\taug.flow(trainX, trainY, batch_size=BS),\r\n",
        "\tsteps_per_epoch=len(trainX) // BS,\r\n",
        "\tvalidation_data=(testX, testY),\r\n",
        "\tvalidation_steps=len(testX) // BS,\r\n",
        "\tepochs=EPOCHS)"
      ],
      "execution_count": null,
      "outputs": [
        {
          "output_type": "stream",
          "text": [
            "[INFO] compiling model...\n",
            "[INFO] training head...\n",
            "Epoch 1/20\n",
            "95/95 [==============================] - 163s 2s/step - loss: 0.5164 - accuracy: 0.7803 - val_loss: 0.1323 - val_accuracy: 0.9831\n",
            "Epoch 2/20\n",
            "95/95 [==============================] - 160s 2s/step - loss: 0.1497 - accuracy: 0.9632 - val_loss: 0.0750 - val_accuracy: 0.9857\n",
            "Epoch 3/20\n",
            "95/95 [==============================] - 159s 2s/step - loss: 0.1047 - accuracy: 0.9708 - val_loss: 0.0599 - val_accuracy: 0.9831\n",
            "Epoch 4/20\n",
            "95/95 [==============================] - 158s 2s/step - loss: 0.0821 - accuracy: 0.9796 - val_loss: 0.0484 - val_accuracy: 0.9857\n",
            "Epoch 5/20\n",
            "95/95 [==============================] - 159s 2s/step - loss: 0.0724 - accuracy: 0.9800 - val_loss: 0.0454 - val_accuracy: 0.9857\n",
            "Epoch 6/20\n",
            "95/95 [==============================] - 159s 2s/step - loss: 0.0636 - accuracy: 0.9796 - val_loss: 0.0395 - val_accuracy: 0.9857\n",
            "Epoch 7/20\n",
            "95/95 [==============================] - 159s 2s/step - loss: 0.0528 - accuracy: 0.9836 - val_loss: 0.0384 - val_accuracy: 0.9870\n",
            "Epoch 8/20\n",
            "95/95 [==============================] - 159s 2s/step - loss: 0.0540 - accuracy: 0.9872 - val_loss: 0.0333 - val_accuracy: 0.9909\n",
            "Epoch 9/20\n",
            "95/95 [==============================] - 159s 2s/step - loss: 0.0466 - accuracy: 0.9859 - val_loss: 0.0325 - val_accuracy: 0.9883\n",
            "Epoch 10/20\n",
            "95/95 [==============================] - 159s 2s/step - loss: 0.0450 - accuracy: 0.9855 - val_loss: 0.0295 - val_accuracy: 0.9922\n",
            "Epoch 11/20\n",
            "95/95 [==============================] - 158s 2s/step - loss: 0.0368 - accuracy: 0.9865 - val_loss: 0.0308 - val_accuracy: 0.9935\n",
            "Epoch 12/20\n",
            "95/95 [==============================] - 158s 2s/step - loss: 0.0302 - accuracy: 0.9910 - val_loss: 0.0314 - val_accuracy: 0.9896\n",
            "Epoch 13/20\n",
            "95/95 [==============================] - 159s 2s/step - loss: 0.0381 - accuracy: 0.9890 - val_loss: 0.0263 - val_accuracy: 0.9948\n",
            "Epoch 14/20\n",
            "95/95 [==============================] - 159s 2s/step - loss: 0.0311 - accuracy: 0.9895 - val_loss: 0.0254 - val_accuracy: 0.9922\n",
            "Epoch 15/20\n",
            "95/95 [==============================] - 165s 2s/step - loss: 0.0413 - accuracy: 0.9877 - val_loss: 0.0322 - val_accuracy: 0.9909\n",
            "Epoch 16/20\n",
            "95/95 [==============================] - 161s 2s/step - loss: 0.0433 - accuracy: 0.9891 - val_loss: 0.0267 - val_accuracy: 0.9935\n",
            "Epoch 17/20\n",
            "95/95 [==============================] - 160s 2s/step - loss: 0.0252 - accuracy: 0.9931 - val_loss: 0.0241 - val_accuracy: 0.9935\n",
            "Epoch 18/20\n",
            "18/95 [====>.........................] - ETA: 1:47 - loss: 0.0171 - accuracy: 0.9974"
          ],
          "name": "stdout"
        }
      ]
    },
    {
      "cell_type": "code",
      "metadata": {
        "colab": {
          "base_uri": "https://localhost:8080/",
          "height": 316
        },
        "id": "OZMdIUy0DmZa",
        "outputId": "b9f8aefd-1ff1-40e0-9122-1cf4135cb6b5"
      },
      "source": [
        "N = EPOCHS\r\n",
        "plt.style.use(\"ggplot\")\r\n",
        "plt.figure()\r\n",
        "plt.plot(np.arange(0, N), H.history[\"loss\"], label=\"train_loss\")\r\n",
        "plt.plot(np.arange(0, N), H.history[\"val_loss\"], label=\"val_loss\")\r\n",
        "plt.plot(np.arange(0, N), H.history[\"accuracy\"], label=\"train_acc\")\r\n",
        "plt.plot(np.arange(0, N), H.history[\"val_accuracy\"], label=\"val_acc\")\r\n",
        "plt.title(\"Training Loss and Accuracy\")\r\n",
        "plt.xlabel(\"Epoch #\")\r\n",
        "plt.ylabel(\"Loss/Accuracy\")\r\n",
        "plt.legend(loc=\"lower left\")"
      ],
      "execution_count": null,
      "outputs": [
        {
          "output_type": "execute_result",
          "data": {
            "text/plain": [
              "<matplotlib.legend.Legend at 0x7f6917b89f60>"
            ]
          },
          "metadata": {
            "tags": []
          },
          "execution_count": 11
        },
        {
          "output_type": "display_data",
          "data": {
            "image/png": "[encoded data removed]",
            "text/plain": [
              "<Figure size 432x288 with 1 Axes>"
            ]
          },
          "metadata": {
            "tags": []
          }
        }
      ]
    },
    {
      "cell_type": "code",
      "metadata": {
        "id": "Vk-JkhinDsfy"
      },
      "source": [
        "#To save the trained model\r\n",
        "model.save('/content/drive/MyDrive/mask_recog_ver2.h5')"
      ],
      "execution_count": null,
      "outputs": []
    },
    {
      "cell_type": "code",
      "metadata": {
        "id": "iYlGeghzD2kx"
      },
      "source": [
        "import cv2\r\n",
        "import os\r\n",
        "from tensorflow.keras.preprocessing.image import img_to_array\r\n",
        "from tensorflow.keras.models import load_model\r\n",
        "from tensorflow.keras.applications.mobilenet_v2 import preprocess_input\r\n",
        "import numpy as np"
      ],
      "execution_count": null,
      "outputs": []
    },
    {
      "cell_type": "code",
      "metadata": {
        "id": "5ChBnEaYGeG7"
      },
      "source": [
        "\r\n",
        "import cv2\r\n",
        "import os\r\n",
        "from tensorflow.keras.preprocessing.image import img_to_array\r\n",
        "from tensorflow.keras.models import load_model\r\n",
        "from tensorflow.keras.applications.mobilenet_v2 import preprocess_input\r\n",
        "import numpy as np\r\n",
        "\r\n",
        "faceCascade = cv2.CascadeClassifier(cv2.data.haarcascades + 'haarcascade_frontalface_default.xml')\r\n",
        "\r\n",
        "model = load_model(\"C:/Users/Pawan Bharti/Downloads/mask_recog_ver2 (1).h5\")\r\n",
        "\r\n",
        "video_capture = cv2.VideoCapture(0)\r\n",
        "while True:\r\n",
        "    # Capture frame-by-frame\r\n",
        "    ret, frame = video_capture.read()\r\n",
        "    gray = cv2.cvtColor(frame, cv2.COLOR_BGR2GRAY)\r\n",
        "    faces = faceCascade.detectMultiScale(gray,  scaleFactor=1.1, minNeighbors=5, minSize=(60, 60), flags=cv2.CASCADE_SCALE_IMAGE)\r\n",
        "    faces_list=[]\r\n",
        "    preds=[]\r\n",
        "    for (x, y, w, h) in faces:\r\n",
        "        face_frame = frame[y:y+h,x:x+w]\r\n",
        "        face_frame = cv2.cvtColor(face_frame, cv2.COLOR_BGR2RGB)\r\n",
        "        face_frame = cv2.resize(face_frame, (224, 224))\r\n",
        "        face_frame = img_to_array(face_frame)\r\n",
        "        face_frame = np.expand_dims(face_frame, axis=0)\r\n",
        "        face_frame =  preprocess_input(face_frame)\r\n",
        "        faces_list.append(face_frame)\r\n",
        "        if len(faces_list)>0:\r\n",
        "            preds = model.predict(faces_list)\r\n",
        "        for pred in preds:\r\n",
        "            (mask, withoutMask) = pred\r\n",
        "        label = \"Mask\" if mask > withoutMask else \"No Mask\"\r\n",
        "        color = (0, 255, 0) if label == \"Mask\" else (0, 0, 255)\r\n",
        "        label = \"{}: {:.2f}%\".format(label, max(mask, withoutMask) * 100)\r\n",
        "        cv2.putText(frame, label, (x, y- 10),\r\n",
        "                    cv2.FONT_HERSHEY_SIMPLEX, 0.45, color, 2)\r\n",
        " \r\n",
        "        cv2.rectangle(frame, (x, y), (x + w, y + h),color, 2)\r\n",
        "        # Display the resulting frame\r\n",
        "    cv2.imshow('Video', frame)\r\n",
        "    if cv2.waitKey(1) & 0xFF == ord('q'):\r\n",
        "        break\r\n",
        "video_capture.release()\r\n",
        "cv2.destroyAllWindows()\r\n",
        "\r\n",
        "\r\n",
        "    "
      ],
      "execution_count": null,
      "outputs": []
    }
  ]
}